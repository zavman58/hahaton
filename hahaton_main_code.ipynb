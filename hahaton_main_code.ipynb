{
  "cells": [
    {
      "cell_type": "code",
      "execution_count": 20,
      "metadata": {
        "id": "kGjeB7YAD4pl"
      },
      "outputs": [],
      "source": [
        "import pandas as pd\n",
        "import matplotlib.pyplot as plt\n",
        "import numpy as np\n",
        "from statsmodels.tsa.seasonal import seasonal_decompose\n",
        "from dateutil.parser import parser\n",
        "import pmdarima as pm\n",
        "import pickle\n",
        "import json"
      ]
    },
    {
      "cell_type": "markdown",
      "metadata": {},
      "source": [
        "# Обработка основного датасета"
      ]
    },
    {
      "cell_type": "code",
      "execution_count": null,
      "metadata": {
        "id": "mBiBwSpF1CIv"
      },
      "outputs": [],
      "source": [
        "df = pd.read_csv('/Users/ula/Downloads/Merch_CB_hack.csv', error_bad_lines=False)\n",
        "df = df.dropna()\n",
        "df = df.reset_index()\n",
        "df.isnull().sum()\n",
        "df['day'] = pd.to_datetime(df['day'])\n",
        "df = df.sort_values(by='day', ignore_index=True)\n",
        "df"
      ]
    },
    {
      "cell_type": "markdown",
      "metadata": {},
      "source": [
        "# Корреляция "
      ]
    },
    {
      "cell_type": "code",
      "execution_count": null,
      "metadata": {},
      "outputs": [],
      "source": [
        "# Test for seasonality\n",
        "from pandas.plotting import autocorrelation_plot\n",
        "\n",
        "# Draw Plot\n",
        "plt.rcParams.update({'figure.figsize':(10,6), 'figure.dpi':120})\n",
        "autocorrelation_plot(df['cashback'].tolist())"
      ]
    },
    {
      "cell_type": "code",
      "execution_count": null,
      "metadata": {},
      "outputs": [],
      "source": [
        "from statsmodels.tsa.stattools import acf, pacf\n",
        "from statsmodels.graphics.tsaplots import plot_acf, plot_pacf\n",
        "\n",
        "# Draw Plot\n",
        "fig, axes = plt.subplots(1,2,figsize=(16,3), dpi= 100)\n",
        "plot_acf(df['cashback'].tolist(), lags=50, ax=axes[0])\n",
        "plot_pacf(df['cashback'].tolist(), lags=50, ax=axes[1])"
      ]
    },
    {
      "cell_type": "markdown",
      "metadata": {},
      "source": [
        "# Оценка стационарности через KPSS"
      ]
    },
    {
      "cell_type": "code",
      "execution_count": null,
      "metadata": {},
      "outputs": [],
      "source": [
        "data = df['cashback']\n",
        "from statsmodels.tsa.stattools import kpss\n",
        "def kpss_test(series, **kw):    \n",
        "    statistic, p_value, n_lags, critical_values = kpss(series, **kw)\n",
        "    # Format Output\n",
        "    print(f'KPSS Statistic: {statistic}')\n",
        "    print(f'p-value: {p_value}')\n",
        "    print(f'num lags: {n_lags}')\n",
        "    print('Critial Values:')\n",
        "    for key, value in critical_values.items():\n",
        "        print(f'   {key} : {value}')\n",
        "    print(f'Result: The series is {\"not \" if p_value < 0.05 else \"\"}stationary')\n",
        "\n",
        "kpss_test(data)"
      ]
    },
    {
      "cell_type": "markdown",
      "metadata": {},
      "source": [
        "# Оценка стационарности через ADF"
      ]
    },
    {
      "cell_type": "code",
      "execution_count": null,
      "metadata": {},
      "outputs": [],
      "source": [
        "from statsmodels.tsa.stattools import adfuller\n",
        "\n",
        "result = adfuller(data, autolag='AIC')\n",
        "print(f'ADF Statistic: {result[0]}')\n",
        "print(f'n_lags: {result[1]}')\n",
        "print(f'p-value: {result[1]}')\n",
        "for key, value in result[4].items():\n",
        "    print('Critial Values:')\n",
        "    print(f'   {key}, {value}')    "
      ]
    },
    {
      "cell_type": "markdown",
      "metadata": {},
      "source": [
        "# Декомпозиция"
      ]
    },
    {
      "cell_type": "code",
      "execution_count": null,
      "metadata": {},
      "outputs": [],
      "source": [
        "# Multiplicative Decomposition \n",
        "multiplicative_decomposition = seasonal_decompose(data[\"cashback\"], model=\"multiplicative\", period=6)\n",
        "\n",
        "# Additive Decomposition\n",
        "additive_decomposition = seasonal_decompose(data[\"cashback\"], model=\"additive\", period=6)\n",
        "\n",
        "# M-tive + A-tive plots\n",
        "plt.rcParams.update({'figure.figsize': (15,12)})\n",
        "multiplicative_decomposition.plot().suptitle('Multiplicative Decomposition', fontsize=16)\n",
        "plt.tight_layout(rect=[0, 0.03, 1, 0.95])\n",
        "\n",
        "additive_decomposition.plot().suptitle('Additive Decomposition', fontsize=16)\n",
        "plt.tight_layout(rect=[0, 0.03, 1, 0.95])\n",
        "\n",
        "plt.show()"
      ]
    },
    {
      "cell_type": "markdown",
      "metadata": {},
      "source": [
        "# Установка классовых датасетов"
      ]
    },
    {
      "cell_type": "code",
      "execution_count": 284,
      "metadata": {},
      "outputs": [
        {
          "data": {
            "text/html": [
              "<div>\n",
              "<style scoped>\n",
              "    .dataframe tbody tr th:only-of-type {\n",
              "        vertical-align: middle;\n",
              "    }\n",
              "\n",
              "    .dataframe tbody tr th {\n",
              "        vertical-align: top;\n",
              "    }\n",
              "\n",
              "    .dataframe thead th {\n",
              "        text-align: right;\n",
              "    }\n",
              "</style>\n",
              "<table border=\"1\" class=\"dataframe\">\n",
              "  <thead>\n",
              "    <tr style=\"text-align: right;\">\n",
              "      <th></th>\n",
              "      <th>Unnamed: 0</th>\n",
              "      <th>day</th>\n",
              "      <th>cashback</th>\n",
              "    </tr>\n",
              "  </thead>\n",
              "  <tbody>\n",
              "    <tr>\n",
              "      <th>0</th>\n",
              "      <td>0</td>\n",
              "      <td>2022-01-21 00:00:00</td>\n",
              "      <td>6572.103187</td>\n",
              "    </tr>\n",
              "    <tr>\n",
              "      <th>1</th>\n",
              "      <td>1</td>\n",
              "      <td>2022-01-22 00:00:00</td>\n",
              "      <td>7453.472366</td>\n",
              "    </tr>\n",
              "    <tr>\n",
              "      <th>2</th>\n",
              "      <td>2</td>\n",
              "      <td>2022-01-23 00:00:00</td>\n",
              "      <td>5776.950000</td>\n",
              "    </tr>\n",
              "    <tr>\n",
              "      <th>3</th>\n",
              "      <td>3</td>\n",
              "      <td>2022-01-24 00:00:00</td>\n",
              "      <td>4333.526374</td>\n",
              "    </tr>\n",
              "    <tr>\n",
              "      <th>4</th>\n",
              "      <td>4</td>\n",
              "      <td>2022-01-25 00:00:00</td>\n",
              "      <td>4862.104737</td>\n",
              "    </tr>\n",
              "  </tbody>\n",
              "</table>\n",
              "</div>"
            ],
            "text/plain": [
              "   Unnamed: 0                  day     cashback\n",
              "0           0  2022-01-21 00:00:00  6572.103187\n",
              "1           1  2022-01-22 00:00:00  7453.472366\n",
              "2           2  2022-01-23 00:00:00  5776.950000\n",
              "3           3  2022-01-24 00:00:00  4333.526374\n",
              "4           4  2022-01-25 00:00:00  4862.104737"
            ]
          },
          "execution_count": 284,
          "metadata": {},
          "output_type": "execute_result"
        }
      ],
      "source": [
        "data = pd.read_csv('/Users/ula/Downloads/backup.csv')\n",
        "data.head()"
      ]
    },
    {
      "cell_type": "code",
      "execution_count": 267,
      "metadata": {},
      "outputs": [],
      "source": [
        "# сделать для каждый категории свой датафрйем со средним чеком в день (аналогично data)\n",
        "df_it = {}\n",
        "df_store = {}\n",
        "df_food = {}"
      ]
    },
    {
      "cell_type": "markdown",
      "metadata": {},
      "source": [
        "# Главный код"
      ]
    },
    {
      "cell_type": "code",
      "execution_count": 5,
      "metadata": {},
      "outputs": [],
      "source": [
        "categories = {'food': ['AGAMA', 'Delivery Club', 'Elementaree', 'GLOBUS', 'Greenbox Рационы', 'Grow Food', 'Growfood', 'JustFood', 'My Food', 'SPAR', 'Vprok.ru Перекрёсток', 'Wow Food', 'YAMDIET', 'Yamdiet', 'pobo', 'Ашан', 'Бахетле', 'Веселый Водовоз', 'ВкусВилл', 'ВкусВилл Готовит', 'ВкусВилл в Тинькофф', 'ВкусМил', 'ВкусМил от ВкусВилл', 'ВкусМилл от ВкусВилл', 'ВкусНаДом', 'Вкусвилл', 'Все в разделе «ВкусВилл»', 'Гипермаркет Карусель', 'Дикси', 'Доставка питания YAMDIET', 'Доставка питания Yamdiet', 'ЛЕНТА', 'ЛЕНТА Онлайн', 'Лавка Edoque', 'Лента', 'Лента Онлайн', 'Магнит', 'Магнолия', 'Мегамаркет', 'Михайлик Kitchen', 'О’КЕЙ', 'Пан Запекан', 'Перекрёсток', 'Петрович', 'Порядок', 'Порядок.ру', 'Правильная корзинка', 'ПриЕм!', 'Программы питания Level Kitchen', 'Пятёрочка', 'Сhef At Home', 'Самокат', 'Сахар', 'Сеть магазинов «Пятёрочка»', 'Слата', 'Ужин Дома', 'Шефмаркет', 'Яндекс Еда', 'Яндекс Лавка', 'Яндекс.Еда', 'Яндекс.Еда и Лавка', 'Яндекс.Лавка', 'Ярче', 'Ярче!', 'интернет-магазин GLOBUS', 'интернет-магазин ВкусВилл'],\n",
        "              'education': ['Advance', 'GoPractice Growth', 'LingvaBOOM', 'MyFitlab', 'Puzzle English', 'SKYENG', 'School of Practical Investment', 'Skyeng', 'Skyeng Math', 'Skyeng Премиум', 'Skypro', 'Skysmart', 'Skysmart Premium', 'Smart Reading', 'SmartReading', 'Smartreading', 'Storytel', 'X10 Academy', 'Аудиомания', 'Аудиомания.ру', 'Для студентов ВШЭ', 'Для студентов МГТУ им. Баумана', 'Для студентов МГУ', 'Для студентов НИУ ВШЭ СПб', 'Интернет-магазин «Читай-город»', 'Интернет-магазин Читай-город', 'Испаника', 'Нетология', 'Онлайн школа  LingvaBOOM', 'Онлайн школа Испаника', 'Парусная Академия', 'Республика', 'Сотка', 'Тетрика', 'Умскул', 'Учи.ру', 'Фоксфорд', 'Читай город', 'Читай-город', 'Школа идеального тела'],\n",
        "              'medicine': ['ADRIA', 'Alter', 'Aravia', 'Armani beauty', 'Delux thai spa', 'Diamarka', 'Doma Beauty Place', 'Elemis', 'Erborian', 'KIKO MILANO', 'KRASOTKAPRO.RU', 'Kiko Milano', 'LETIQUE', 'Lancome.ru', 'Los Brows', 'MIXIT', 'Medalp', 'Noerden', 'Pharmacosmetica', 'SEPHORA', 'Sisley-Paris', 'SmartMed', 'Socolor', 'Soda', 'Well Clinic', 'Yahmur Space', 'Yves Rocher', 'biblioteka aromatov', 'imkosmetik', 'Акушерство.ru', 'Аптека Вита', 'Аптека Низких Цен', 'Библиотека ароматов', 'Галерея косметики', 'Горздрав', 'Государственная Аптека', 'Дентал Бутик', 'ДиаМарка', 'ЕМС', 'Европейский Медицинский Центр', 'ЗдравСити', 'Интернет-бутик «YVES ROCHER»', 'Интернет-магазин Акушерство.ру', 'КрасоткаПро', 'Красоткапро', \"Л'Этуаль\", 'Лаборатория ДНКОМ', 'Линзмастер', 'Лошадиная Сила', 'Лошадиная сила', 'МЕДСИ', 'МЕДСИ сеть клиник', 'Магнит косметик', 'Медси', 'Миссис Лазер', 'Моя аптека', 'Народная стоматология', 'ОРТЕКА', 'Оазис-спа', 'Огни Олимпа', 'Оптика Точка зрения', 'Ортека', 'Офтальмологическая клиника Спектр', 'Планета Здоровья', 'Сеть аптек «Моя аптека»', 'Сеть аптек Моя аптека', 'Сиблабсервис', 'Телемедицина от МЕДСИ', 'Телемедицина от МЕДСИ ', 'Точка зрения', 'УЗИ студия', 'Улыбка радуги', 'ЦЭЛТ', 'Четыре глаза', 'интернет-бутик Yves Rocher', 'интернет-бутик «YVES ROCHER»'],\n",
        "              'travel': ['4SEASONS', 'Art Deco Primorsky', 'Art Nuvo Palace', 'Bronevik', 'Bronevik.com', 'Delta Sirius', 'FUN&SUN', 'Grand Wellness', 'Level Travel', 'Level.Travel', 'Level.Travel Туры', 'METRO Cash&Carry', 'Ostrovok.ru', 'QuickMADE', 'S7', 'S7 Airlines', 'SHELL', 'Shell', 'TUI', 'TUI I FUN&SUN', 'Tvil.ru', 'UBER', 'Uber Russia', 'Urent', 'Whoosh', 'tutu Отели', 'Автотека', 'Аква-Вита', 'Аква-Стайл', 'Бизнес-залы РЖД', 'ВелоСклад', 'Делимобиль', 'Купибилет', 'Лукойл', 'Манжерок', 'Манжерок ', 'Петровский Арт Лофт', 'РАМК', 'Русский Авто-Мото Клуб', 'Русский АвтоМотоКлуб (РАМК)', 'СИТИДРАЙВ', 'СЛЕТАТЬ.РУ', 'Сеть автомоек 4SEASONS', 'Ситидрайв', 'Ситимобил', 'Слетать.Ру', 'Спутник', 'Суточно.ру', 'ТВИЛ', 'Такси Maxim', 'Тинькофф Отели', 'Туту Отели', 'Экспресс Точка Ру', 'Юрент', 'Яндекс Такси', 'Яндекс.Такси'],\n",
        "              'purchase': ['#SEKTA', '1С Интерес', '2MOOD', '585 Золотой', '585*Золотой', 'ATAK', 'AliExpress', 'AllTime', 'AllTime.ru', 'Bluesleep', 'Bonafide', 'Bonafide ', 'CERAMISU', 'COLINS', 'Cheese It', 'Code4game', 'Consul', 'Cеть хобби-гипермаркетов «Леонардо»', 'DKNY', 'Designboom', 'Dr.Head', 'ESET NOD32', 'ESETNOD32', 'Etam', 'FARFETCH', 'Familia', 'Farfetch', 'Fissman', 'Fix Price', 'FloraExpress', 'Futuriqa', 'GFN', 'GRASS', 'Giox', 'Goods', 'Goods.ru', 'Grass', 'Gulliver market', 'HANDWERS', 'Handwers', 'Happywear', 'I am studio', 'ISTNOVA', 'IVI', 'IVI в приложении Тинькофф', 'IVI от Тинькофф', 'Intelinvest', 'Intelinvest ', 'Juicy Couture', 'KANZLER', 'KARI', 'KARI KIDS', 'Kanzler', 'Karcher', 'Kari', 'Kidzania', 'Kraft Flowers', 'Lamoda', 'Lassie', 'Lee', 'MATE flowers', 'MEGOGO', 'MIUZ Diamonds', 'Marc & Andre', 'Marks & Spencer', 'Masar Lingerie', 'Megogo', 'Mon Bon', 'Movavi', 'My Hygge Box', 'NEBBIA', 'Nappyclub', 'OZON', 'OZON.ru', 'Olympus', 'Ozon', 'Ozon.ru', 'PETKIT', 'PREMIER', 'PRO.FINANSY', 'Petshop.ru', 'Petstory', 'Petstory ', 'Reima', 'Respect', 'Rondell', 'Routemark', 'SENAT', 'SOLAR', 'SUPERPET', 'Samsung', 'Seiko Club', 'Shopping live', 'Simple', 'Softline Store', 'SuperStep', 'Svetlov', 'TEZENIS', 'Teboil', 'Tkano', 'VK Музыка', 'Wink', 'World of watch', 'Yves Saint Laurent', 'Zolla', 'adidas', 'e2e4', 'goods.ru', 'ivi', 'kari', 'kari KIDS', 'more.tv', '«Лаборатория Касперского»', 'Аленка', 'Арбатский БаЗар', 'Бетховен', 'Братья Чистовы', 'Бронницкий ювелир', 'Верный', 'Ветеринария онлайн Petstory', 'Ветеринарный центр', 'Газпромнефть', 'Горбилет', 'Деловые Линии', 'Детский Мир', 'Динозаврик', 'Доставка цветов FloraExpress', 'Зелёная лиса', 'Золотое Яблоко', 'Зоомагазин Динозаврик', 'ИВИ', 'Иви в приложении Тинькофф', 'Игры в Тинькофф Городе', 'Интернет - магазин SEPHORA', 'Интернет-магазин 585*Золотой', 'Интернет-магазин Lancome.ru', 'Интернет-магазин SuperStep', 'Интернет-магазин TEZENIS', 'Интернет-магазин «Технопарк»', 'Интернет-магазин Динозаврик', 'Интернет-магазин Технопарк', 'КОД4ГЕЙМ', 'Карат', 'Каток на Кремлёвской набережной', 'Кидзания', 'Кораблик', \"Л'Окситан\", 'Лаборатория Касперского', 'Леонардо', 'Логомашина', 'МегаФон', 'Мираторг', 'Мокрый нос', 'Монетка', 'Московский ювелирный завод', 'Николаевский', 'Опека', 'ПЕРЕСТРОЙКА', 'Плюс Мульти', 'Полимакс', 'РИВ ГОШ', 'Рив Гош', 'Роснефть', 'Ростелеком', 'Русский остров', 'СЕТЬ СВЯЗНОЙ', 'СТРОЙПЛАТФОРМА', 'СберМаркет', 'СберМегаМаркет', 'Связной', 'Спектр', 'Столото', 'Строительный двор', 'Строительный двор Рассрочка', 'Строительный двор Таргет', 'ТВОЕ', 'Татнефть', 'Технопарк', 'Тинькофф Игры', 'Тинькофф Страхование', 'Тинькофф каток', 'Топливо в Тинькофф', 'Топливо в Тинькофф (FUEL)', 'Тортомастер', 'Точка любви', 'Хобби-гипермаркет Леонардо', 'Хобби-гипермаркеты «Леонардо»', 'Хобби-гипермаркеты Леонардо', 'ЦВЕТЫ НА РАЙОНЕ', 'ЦСКА', 'Цветов.ру', 'Цветы на районе', 'ЧЕТЫРЕ ГЛАЗА', 'Четыре Лапы', 'Чистая линия', 'Чёрное Озеро', 'Яндекс 360', 'Яндекс Заправки', 'Яндекс Плюс', 'Яндекс.Заправки', 'Яркий Фотомаркет', 'Яркий фотомаркет', 'интернет-магазин SuperStep', 'интернет-магазин TEZENIS', 'интернет-магазин Технопарк'],\n",
        "              'restaurant': ['BB&BURGERS', 'BURGER KING', 'Burger King', 'Cofix', \"Domino's Pizza\", 'Four', 'Gent', 'KFC', 'Maestrello', 'PIZZASUSHIWOK.RU', 'PhoBo', 'Pizza Maestrello', 'PizzaSushiWok', 'PrimeMeat', 'PrimeMeat.ru', 'Tasty Coffee', 'Бирвайн', 'Бургер Кинг', 'ВьетКафе', 'Гурманика', 'ДОДО Пицца', 'Додо', 'Додо Пицца', 'Кухня на районе', 'НИЯМА', 'Рестораны', 'Сушкоф и Дель Песто', 'Сушкоф и пицца', 'Теремок', 'Теремок ', 'Теремок Спб'],\n",
        "              'bigpurchase': ['AUTODOC.RU', 'Anytime Prime', 'Braun', 'DNS', 'Don Plafon', 'Fandeco', 'Garlyn', 'Greenbox', 'HOBOT', 'HOFF', 'Haier', 'Inoxtime', 'LAZURIT', 'Lapsi', 'Lavita', 'Leran', 'Level Kitchen', 'Lustron', 'Lustron.ru', 'MELEON', 'Maxwell', 'Pushe', 'SantPrice.ru', 'TESSER', 'TESSER.RU', 'Xcom-shop', 're:Store', 'restore:', 'Гардиан', 'Двери ГАРДИАН', 'Двери Гардиан', 'Дивайн Лайт', 'ЛЮ.ру', 'Леруа Мерлен', 'М.Видео', 'Маркет света', 'Сантехника-Рум', 'Ситилинк', 'Фиссмания', 'Холодильник.ру', 'Эльдорадо']}"
      ]
    },
    {
      "cell_type": "markdown",
      "metadata": {},
      "source": [
        "### По функциям"
      ]
    },
    {
      "cell_type": "code",
      "execution_count": 288,
      "metadata": {},
      "outputs": [],
      "source": [
        "def which_category(name: str): # -> str\n",
        "    for key_cat, val_cat in categories.items():\n",
        "        if name in val_cat:\n",
        "            return key_cat\n",
        "    return 'ErrorCategoryQualifier: this company not in Data'\n",
        "\n",
        "def create_full_dict(name: str, budget: int, category: str, date_end): # -> dict\n",
        "    d_full = {name: [category, budget, date_end, 0, False]}\n",
        "    return d_full\n",
        "\n",
        "def determinant_model(category): # УЧЕСТЬ ЧТО НАЗВАНИЕ ПОЛНОЕ\n",
        "    name_model = f'model_{category}.pkl'\n",
        "    with open(name_model, 'rb') as pkl:\n",
        "            model = pickle.load(pkl)\n",
        "    return model\n",
        "\n",
        "def get_predict_old(model, date_end): # -> DataFrame     ПРОВЕРИТЬ РАБОТОСПОСОБНОСТЬ \n",
        "    periods = (date_end - pd.to_datetime('2023-01-01')).dt.days\n",
        "    predict = model.predict(n_periods=periods)\n",
        "    dates = pd.date_range(pd.to_datetime('2023-01-01'), date_end)\n",
        "    predict = predict.to_frame(name='pred_cash')\n",
        "    df_pred = pd.concat([dates, predict], axis=1)\n",
        "    return df_pred\n",
        "\n",
        "def change_datatime_action(predicted_df, full_df):  # -> DataFrame   \n",
        "    for i in range(predicted_df.shape[0]):\n",
        "        spent_now = change_spent_budget(predicted_df, full_df, i)[0][-2]\n",
        "        if spent_now >= full_df[0][1]:\n",
        "            full_df[0][-1] = True \n",
        "            full_df[0][2] = pd.to_datetime(predicted_df.iloc[i, 0])\n",
        "    return full_df\n",
        "\n",
        "def change_spent_budget(predicted_df, full_df, index):   # -> DataFrame \n",
        "    full_df[0][-2] = full_df[0][-2] + predicted_df.iloc[index, -1]\n",
        "    return full_df"
      ]
    },
    {
      "cell_type": "code",
      "execution_count": 242,
      "metadata": {},
      "outputs": [],
      "source": [
        "def get_predict(name, budget, id):\n",
        "    date_end = pd.to_datetime('2023-02-28')\n",
        "    \n",
        "    with open('predictions.json', 'r') as json_file:\n",
        "        json_data = json.load(json_file)\n",
        "\n",
        "    for key_cat, val_cat in categories.items():\n",
        "        if name in val_cat:\n",
        "            category = key_cat\n",
        "        \n",
        "    full_df = {name: date_end}\n",
        "\n",
        "    name_model = f'model_fit_{category}.pkl'\n",
        "    with open(name_model, 'rb') as pkl:\n",
        "        model = pickle.load(pkl)\n",
        "\n",
        "    periods = (date_end - pd.to_datetime('2023-01-01')).days\n",
        "    predict = model.predict(n_periods=periods).to_frame().reset_index()\n",
        "    predict = predict.drop(columns='index')\n",
        "    predict = predict.rename({0: 'cash'}, axis=1)\n",
        "    \n",
        "    dates = pd.date_range(pd.to_datetime('2023-01-01').date(), date_end.date()).to_frame().reset_index()\n",
        "    dates = dates.drop(columns=[0])\n",
        "    \n",
        "    df_pred = pd.concat([dates, predict], axis=1)\n",
        "    df_pred = df_pred.dropna()\n",
        "    \n",
        "    sum_cash = 0\n",
        "    for i in range(df_pred.shape[0]):\n",
        "        sum_cash += df_pred.iloc[i, -1] \n",
        "        if sum_cash >= int(budget):\n",
        "            plan_time = pd.to_datetime(full_df[name])\n",
        "            now_time = pd.to_datetime(df_pred.iloc[i, 0])\n",
        "            if plan_time > now_time:\n",
        "                full_df[name] = f'{now_time.year}-{now_time.month}-{now_time.day}'\n",
        "            else:\n",
        "                full_df[name] = plan_time\n",
        "\n",
        "    json_data[str(id)] = str(full_df[name].date())\n",
        "    \n",
        "    with open('predictions.json', 'w') as f:    \n",
        "        json.dump(json_data, f)"
      ]
    },
    {
      "cell_type": "code",
      "execution_count": 243,
      "metadata": {},
      "outputs": [],
      "source": [
        "get_predict(\"SPAR\", \"10000\", \"0\")"
      ]
    },
    {
      "cell_type": "markdown",
      "metadata": {},
      "source": [
        "# Обучение модели, подбор параметров, предсказание"
      ]
    },
    {
      "cell_type": "code",
      "execution_count": 91,
      "metadata": {},
      "outputs": [
        {
          "name": "stdout",
          "output_type": "stream",
          "text": [
            "Performing stepwise search to minimize aic\n",
            " ARIMA(1,0,1)(0,1,1)[4] intercept   : AIC=8231.595, Time=0.33 sec\n",
            " ARIMA(0,0,0)(0,1,0)[4] intercept   : AIC=8437.928, Time=0.03 sec\n",
            " ARIMA(1,0,0)(1,1,0)[4] intercept   : AIC=8303.015, Time=0.10 sec\n",
            " ARIMA(0,0,1)(0,1,1)[4] intercept   : AIC=8244.026, Time=0.12 sec\n",
            " ARIMA(0,0,0)(0,1,0)[4]             : AIC=8435.998, Time=0.02 sec\n",
            " ARIMA(1,0,1)(0,1,0)[4] intercept   : AIC=8384.117, Time=0.08 sec\n",
            " ARIMA(1,0,1)(1,1,1)[4] intercept   : AIC=8233.571, Time=0.25 sec\n",
            " ARIMA(1,0,1)(0,1,2)[4] intercept   : AIC=8233.579, Time=0.38 sec\n",
            " ARIMA(1,0,1)(1,1,0)[4] intercept   : AIC=8305.226, Time=0.17 sec\n",
            " ARIMA(1,0,1)(1,1,2)[4] intercept   : AIC=8235.526, Time=0.92 sec\n",
            " ARIMA(1,0,0)(0,1,1)[4] intercept   : AIC=8176.475, Time=0.54 sec\n",
            " ARIMA(1,0,0)(0,1,0)[4] intercept   : AIC=8384.338, Time=0.03 sec\n",
            " ARIMA(1,0,0)(1,1,1)[4] intercept   : AIC=8231.661, Time=0.16 sec\n",
            " ARIMA(1,0,0)(0,1,2)[4] intercept   : AIC=8231.747, Time=0.20 sec\n",
            " ARIMA(1,0,0)(1,1,2)[4] intercept   : AIC=8234.655, Time=0.37 sec\n",
            " ARIMA(0,0,0)(0,1,1)[4] intercept   : AIC=8307.986, Time=0.08 sec\n",
            " ARIMA(2,0,0)(0,1,1)[4] intercept   : AIC=8227.689, Time=0.33 sec\n",
            " ARIMA(2,0,1)(0,1,1)[4] intercept   : AIC=inf, Time=0.69 sec\n",
            " ARIMA(1,0,0)(0,1,1)[4]             : AIC=8183.517, Time=0.16 sec\n",
            "\n",
            "Best model:  ARIMA(1,0,0)(0,1,1)[4] intercept\n",
            "Total fit time: 4.973 seconds\n"
          ]
        }
      ],
      "source": [
        "df = pd.read_csv('/Users/ula/Downloads/model_bigpurchase.csv')\n",
        "\n",
        "model = pm.auto_arima(df[\"cashback\"], start_p=1, start_q=1,\n",
        "                         test='adf',\n",
        "                         max_p=5, max_q=5, m=4,\n",
        "                         start_P=0, seasonal=True,\n",
        "                         d=None, D=1, trace=True,\n",
        "                         error_action='ignore',  \n",
        "                         suppress_warnings=True, \n",
        "                         stepwise=True)\n",
        "\n",
        "predict = model.predict(n_periods=5, return_conf_int=True)\n",
        "#print(predict)"
      ]
    },
    {
      "cell_type": "code",
      "execution_count": 254,
      "metadata": {},
      "outputs": [],
      "source": [
        "name_model = f'model_fit_food.pkl'\n",
        "with open(name_model, 'rb') as pkl:\n",
        "    model = pickle.load(pkl)\n",
        "predict = model.predict(n_periods=5, return_conf_int=True)\n"
      ]
    },
    {
      "cell_type": "code",
      "execution_count": 255,
      "metadata": {},
      "outputs": [
        {
          "data": {
            "text/html": [
              "<table class=\"simpletable\">\n",
              "<caption>SARIMAX Results</caption>\n",
              "<tr>\n",
              "  <th>Dep. Variable:</th>                 <td>y</td>               <th>  No. Observations:  </th>    <td>396</td>   \n",
              "</tr>\n",
              "<tr>\n",
              "  <th>Model:</th>           <td>SARIMAX(3, 0, 0)x(2, 1, 0, 4)</td> <th>  Log Likelihood     </th> <td>-4136.639</td>\n",
              "</tr>\n",
              "<tr>\n",
              "  <th>Date:</th>                  <td>Sun, 25 Feb 2024</td>        <th>  AIC                </th> <td>8285.279</td> \n",
              "</tr>\n",
              "<tr>\n",
              "  <th>Time:</th>                      <td>15:36:50</td>            <th>  BIC                </th> <td>8309.106</td> \n",
              "</tr>\n",
              "<tr>\n",
              "  <th>Sample:</th>                        <td>0</td>               <th>  HQIC               </th> <td>8294.722</td> \n",
              "</tr>\n",
              "<tr>\n",
              "  <th></th>                            <td> - 396</td>             <th>                     </th>     <td> </td>    \n",
              "</tr>\n",
              "<tr>\n",
              "  <th>Covariance Type:</th>              <td>opg</td>              <th>                     </th>     <td> </td>    \n",
              "</tr>\n",
              "</table>\n",
              "<table class=\"simpletable\">\n",
              "<tr>\n",
              "     <td></td>        <th>coef</th>     <th>std err</th>      <th>z</th>      <th>P>|z|</th>  <th>[0.025</th>    <th>0.975]</th>  \n",
              "</tr>\n",
              "<tr>\n",
              "  <th>ar.L1</th>   <td>    0.7036</td> <td>    0.034</td> <td>   20.986</td> <td> 0.000</td> <td>    0.638</td> <td>    0.769</td>\n",
              "</tr>\n",
              "<tr>\n",
              "  <th>ar.L2</th>   <td>    0.0533</td> <td>    0.047</td> <td>    1.145</td> <td> 0.252</td> <td>   -0.038</td> <td>    0.145</td>\n",
              "</tr>\n",
              "<tr>\n",
              "  <th>ar.L3</th>   <td>    0.0409</td> <td>    0.047</td> <td>    0.866</td> <td> 0.386</td> <td>   -0.052</td> <td>    0.133</td>\n",
              "</tr>\n",
              "<tr>\n",
              "  <th>ar.S.L4</th> <td>   -0.6680</td> <td>    0.044</td> <td>  -15.156</td> <td> 0.000</td> <td>   -0.754</td> <td>   -0.582</td>\n",
              "</tr>\n",
              "<tr>\n",
              "  <th>ar.S.L8</th> <td>   -0.2352</td> <td>    0.042</td> <td>   -5.599</td> <td> 0.000</td> <td>   -0.317</td> <td>   -0.153</td>\n",
              "</tr>\n",
              "<tr>\n",
              "  <th>sigma2</th>  <td> 1.111e+08</td> <td> 4.04e-10</td> <td> 2.75e+17</td> <td> 0.000</td> <td> 1.11e+08</td> <td> 1.11e+08</td>\n",
              "</tr>\n",
              "</table>\n",
              "<table class=\"simpletable\">\n",
              "<tr>\n",
              "  <th>Ljung-Box (L1) (Q):</th>     <td>0.00</td> <th>  Jarque-Bera (JB):  </th> <td>17077.54</td>\n",
              "</tr>\n",
              "<tr>\n",
              "  <th>Prob(Q):</th>                <td>0.98</td> <th>  Prob(JB):          </th>   <td>0.00</td>  \n",
              "</tr>\n",
              "<tr>\n",
              "  <th>Heteroskedasticity (H):</th> <td>0.54</td> <th>  Skew:              </th>   <td>-0.73</td> \n",
              "</tr>\n",
              "<tr>\n",
              "  <th>Prob(H) (two-sided):</th>    <td>0.00</td> <th>  Kurtosis:          </th>   <td>35.30</td> \n",
              "</tr>\n",
              "</table><br/><br/>Warnings:<br/>[1] Covariance matrix calculated using the outer product of gradients (complex-step).<br/>[2] Covariance matrix is singular or near-singular, with condition number 9.5e+33. Standard errors may be unstable."
            ],
            "text/plain": [
              "<class 'statsmodels.iolib.summary.Summary'>\n",
              "\"\"\"\n",
              "                                     SARIMAX Results                                     \n",
              "=========================================================================================\n",
              "Dep. Variable:                                 y   No. Observations:                  396\n",
              "Model:             SARIMAX(3, 0, 0)x(2, 1, 0, 4)   Log Likelihood               -4136.639\n",
              "Date:                           Sun, 25 Feb 2024   AIC                           8285.279\n",
              "Time:                                   15:36:50   BIC                           8309.106\n",
              "Sample:                                        0   HQIC                          8294.722\n",
              "                                           - 396                                         \n",
              "Covariance Type:                             opg                                         \n",
              "==============================================================================\n",
              "                 coef    std err          z      P>|z|      [0.025      0.975]\n",
              "------------------------------------------------------------------------------\n",
              "ar.L1          0.7036      0.034     20.986      0.000       0.638       0.769\n",
              "ar.L2          0.0533      0.047      1.145      0.252      -0.038       0.145\n",
              "ar.L3          0.0409      0.047      0.866      0.386      -0.052       0.133\n",
              "ar.S.L4       -0.6680      0.044    -15.156      0.000      -0.754      -0.582\n",
              "ar.S.L8       -0.2352      0.042     -5.599      0.000      -0.317      -0.153\n",
              "sigma2      1.111e+08   4.04e-10   2.75e+17      0.000    1.11e+08    1.11e+08\n",
              "===================================================================================\n",
              "Ljung-Box (L1) (Q):                   0.00   Jarque-Bera (JB):             17077.54\n",
              "Prob(Q):                              0.98   Prob(JB):                         0.00\n",
              "Heteroskedasticity (H):               0.54   Skew:                            -0.73\n",
              "Prob(H) (two-sided):                  0.00   Kurtosis:                        35.30\n",
              "===================================================================================\n",
              "\n",
              "Warnings:\n",
              "[1] Covariance matrix calculated using the outer product of gradients (complex-step).\n",
              "[2] Covariance matrix is singular or near-singular, with condition number 9.5e+33. Standard errors may be unstable.\n",
              "\"\"\""
            ]
          },
          "execution_count": 255,
          "metadata": {},
          "output_type": "execute_result"
        }
      ],
      "source": [
        "model.summary()"
      ]
    },
    {
      "cell_type": "code",
      "execution_count": 93,
      "metadata": {},
      "outputs": [],
      "source": [
        "with open('model_fit_bigpurchase.pkl', 'wb') as f:\n",
        "    pickle.dump(model, f)"
      ]
    },
    {
      "cell_type": "code",
      "execution_count": null,
      "metadata": {},
      "outputs": [],
      "source": []
    }
  ],
  "metadata": {
    "colab": {
      "provenance": []
    },
    "kernelspec": {
      "display_name": "Python 3",
      "name": "python3"
    },
    "language_info": {
      "codemirror_mode": {
        "name": "ipython",
        "version": 3
      },
      "file_extension": ".py",
      "mimetype": "text/x-python",
      "name": "python",
      "nbconvert_exporter": "python",
      "pygments_lexer": "ipython3",
      "version": "3.10.9"
    }
  },
  "nbformat": 4,
  "nbformat_minor": 0
}
