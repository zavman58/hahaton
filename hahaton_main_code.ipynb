{
  "cells": [
    {
      "cell_type": "code",
      "execution_count": 20,
      "metadata": {
        "id": "kGjeB7YAD4pl"
      },
      "outputs": [],
      "source": [
        "import pandas as pd\n",
        "import matplotlib.pyplot as plt\n",
        "import numpy as np\n",
        "from statsmodels.tsa.seasonal import seasonal_decompose\n",
        "from dateutil.parser import parser\n",
        "from statsmodels.tsa.arima_model import ARIMA\n",
        "import pmdarima as pm\n",
        "import pickle\n",
        "import json"
      ]
    },
    {
      "cell_type": "markdown",
      "metadata": {},
      "source": [
        "# Обработка основного датасета"
      ]
    },
    {
      "cell_type": "code",
      "execution_count": null,
      "metadata": {
        "id": "mBiBwSpF1CIv"
      },
      "outputs": [],
      "source": [
        "df = pd.read_csv('/Users/ula/Downloads/Merch_CB_hack.csv', error_bad_lines=False)\n",
        "df = df.dropna()\n",
        "df = df.reset_index()\n",
        "df.isnull().sum()\n",
        "df['day'] = pd.to_datetime(df['day'])\n",
        "df = df.sort_values(by='day', ignore_index=True)\n",
        "df"
      ]
    },
    {
      "cell_type": "markdown",
      "metadata": {},
      "source": [
        "# Корреляция "
      ]
    },
    {
      "cell_type": "code",
      "execution_count": null,
      "metadata": {},
      "outputs": [],
      "source": [
        "# Test for seasonality\n",
        "from pandas.plotting import autocorrelation_plot\n",
        "\n",
        "# Draw Plot\n",
        "plt.rcParams.update({'figure.figsize':(10,6), 'figure.dpi':120})\n",
        "autocorrelation_plot(df['cashback'].tolist())"
      ]
    },
    {
      "cell_type": "code",
      "execution_count": null,
      "metadata": {},
      "outputs": [],
      "source": [
        "from statsmodels.tsa.stattools import acf, pacf\n",
        "from statsmodels.graphics.tsaplots import plot_acf, plot_pacf\n",
        "\n",
        "# Draw Plot\n",
        "fig, axes = plt.subplots(1,2,figsize=(16,3), dpi= 100)\n",
        "plot_acf(df['cashback'].tolist(), lags=50, ax=axes[0])\n",
        "plot_pacf(df['cashback'].tolist(), lags=50, ax=axes[1])"
      ]
    },
    {
      "cell_type": "markdown",
      "metadata": {},
      "source": [
        "# Оценка стационарности через KPSS"
      ]
    },
    {
      "cell_type": "code",
      "execution_count": null,
      "metadata": {},
      "outputs": [],
      "source": [
        "data = df['cashback']\n",
        "from statsmodels.tsa.stattools import kpss\n",
        "def kpss_test(series, **kw):    \n",
        "    statistic, p_value, n_lags, critical_values = kpss(series, **kw)\n",
        "    # Format Output\n",
        "    print(f'KPSS Statistic: {statistic}')\n",
        "    print(f'p-value: {p_value}')\n",
        "    print(f'num lags: {n_lags}')\n",
        "    print('Critial Values:')\n",
        "    for key, value in critical_values.items():\n",
        "        print(f'   {key} : {value}')\n",
        "    print(f'Result: The series is {\"not \" if p_value < 0.05 else \"\"}stationary')\n",
        "\n",
        "kpss_test(data)"
      ]
    },
    {
      "cell_type": "markdown",
      "metadata": {},
      "source": [
        "# Оценка стационарности через ADF"
      ]
    },
    {
      "cell_type": "code",
      "execution_count": null,
      "metadata": {},
      "outputs": [],
      "source": [
        "from statsmodels.tsa.stattools import adfuller\n",
        "\n",
        "result = adfuller(data, autolag='AIC')\n",
        "print(f'ADF Statistic: {result[0]}')\n",
        "print(f'n_lags: {result[1]}')\n",
        "print(f'p-value: {result[1]}')\n",
        "for key, value in result[4].items():\n",
        "    print('Critial Values:')\n",
        "    print(f'   {key}, {value}')    "
      ]
    },
    {
      "cell_type": "markdown",
      "metadata": {},
      "source": [
        "# Декомпозиция"
      ]
    },
    {
      "cell_type": "code",
      "execution_count": null,
      "metadata": {},
      "outputs": [],
      "source": [
        "# Multiplicative Decomposition \n",
        "multiplicative_decomposition = seasonal_decompose(data[\"cashback\"], model=\"multiplicative\", period=6)\n",
        "\n",
        "# Additive Decomposition\n",
        "additive_decomposition = seasonal_decompose(data[\"cashback\"], model=\"additive\", period=6)\n",
        "\n",
        "# M-tive + A-tive plots\n",
        "plt.rcParams.update({'figure.figsize': (15,12)})\n",
        "multiplicative_decomposition.plot().suptitle('Multiplicative Decomposition', fontsize=16)\n",
        "plt.tight_layout(rect=[0, 0.03, 1, 0.95])\n",
        "\n",
        "additive_decomposition.plot().suptitle('Additive Decomposition', fontsize=16)\n",
        "plt.tight_layout(rect=[0, 0.03, 1, 0.95])\n",
        "\n",
        "plt.show()"
      ]
    },
    {
      "cell_type": "markdown",
      "metadata": {},
      "source": [
        "# Установка классовых датасетов"
      ]
    },
    {
      "cell_type": "code",
      "execution_count": 284,
      "metadata": {},
      "outputs": [
        {
          "data": {
            "text/html": [
              "<div>\n",
              "<style scoped>\n",
              "    .dataframe tbody tr th:only-of-type {\n",
              "        vertical-align: middle;\n",
              "    }\n",
              "\n",
              "    .dataframe tbody tr th {\n",
              "        vertical-align: top;\n",
              "    }\n",
              "\n",
              "    .dataframe thead th {\n",
              "        text-align: right;\n",
              "    }\n",
              "</style>\n",
              "<table border=\"1\" class=\"dataframe\">\n",
              "  <thead>\n",
              "    <tr style=\"text-align: right;\">\n",
              "      <th></th>\n",
              "      <th>Unnamed: 0</th>\n",
              "      <th>day</th>\n",
              "      <th>cashback</th>\n",
              "    </tr>\n",
              "  </thead>\n",
              "  <tbody>\n",
              "    <tr>\n",
              "      <th>0</th>\n",
              "      <td>0</td>\n",
              "      <td>2022-01-21 00:00:00</td>\n",
              "      <td>6572.103187</td>\n",
              "    </tr>\n",
              "    <tr>\n",
              "      <th>1</th>\n",
              "      <td>1</td>\n",
              "      <td>2022-01-22 00:00:00</td>\n",
              "      <td>7453.472366</td>\n",
              "    </tr>\n",
              "    <tr>\n",
              "      <th>2</th>\n",
              "      <td>2</td>\n",
              "      <td>2022-01-23 00:00:00</td>\n",
              "      <td>5776.950000</td>\n",
              "    </tr>\n",
              "    <tr>\n",
              "      <th>3</th>\n",
              "      <td>3</td>\n",
              "      <td>2022-01-24 00:00:00</td>\n",
              "      <td>4333.526374</td>\n",
              "    </tr>\n",
              "    <tr>\n",
              "      <th>4</th>\n",
              "      <td>4</td>\n",
              "      <td>2022-01-25 00:00:00</td>\n",
              "      <td>4862.104737</td>\n",
              "    </tr>\n",
              "  </tbody>\n",
              "</table>\n",
              "</div>"
            ],
            "text/plain": [
              "   Unnamed: 0                  day     cashback\n",
              "0           0  2022-01-21 00:00:00  6572.103187\n",
              "1           1  2022-01-22 00:00:00  7453.472366\n",
              "2           2  2022-01-23 00:00:00  5776.950000\n",
              "3           3  2022-01-24 00:00:00  4333.526374\n",
              "4           4  2022-01-25 00:00:00  4862.104737"
            ]
          },
          "execution_count": 284,
          "metadata": {},
          "output_type": "execute_result"
        }
      ],
      "source": [
        "data = pd.read_csv('/Users/ula/Downloads/backup.csv')\n",
        "data.head()"
      ]
    },
    {
      "cell_type": "code",
      "execution_count": 267,
      "metadata": {},
      "outputs": [],
      "source": [
        "# сделать для каждый категории свой датафрйем со средним чеком в день (аналогично data)\n",
        "df_it = {}\n",
        "df_store = {}\n",
        "df_food = {}"
      ]
    },
    {
      "cell_type": "markdown",
      "metadata": {},
      "source": [
        "# Главный код"
      ]
    },
    {
      "cell_type": "markdown",
      "metadata": {},
      "source": [
        "### По функциям"
      ]
    },
    {
      "cell_type": "code",
      "execution_count": 5,
      "metadata": {},
      "outputs": [],
      "source": [
        "categories = {'food': ['AGAMA', 'Delivery Club', 'Elementaree', 'GLOBUS', 'Greenbox Рационы', 'Grow Food', 'Growfood', 'JustFood', 'My Food', 'SPAR', 'Vprok.ru Перекрёсток', 'Wow Food', 'YAMDIET', 'Yamdiet', 'pobo', 'Ашан', 'Бахетле', 'Веселый Водовоз', 'ВкусВилл', 'ВкусВилл Готовит', 'ВкусВилл в Тинькофф', 'ВкусМил', 'ВкусМил от ВкусВилл', 'ВкусМилл от ВкусВилл', 'ВкусНаДом', 'Вкусвилл', 'Все в разделе «ВкусВилл»', 'Гипермаркет Карусель', 'Дикси', 'Доставка питания YAMDIET', 'Доставка питания Yamdiet', 'ЛЕНТА', 'ЛЕНТА Онлайн', 'Лавка Edoque', 'Лента', 'Лента Онлайн', 'Магнит', 'Магнолия', 'Мегамаркет', 'Михайлик Kitchen', 'О’КЕЙ', 'Пан Запекан', 'Перекрёсток', 'Петрович', 'Порядок', 'Порядок.ру', 'Правильная корзинка', 'ПриЕм!', 'Программы питания Level Kitchen', 'Пятёрочка', 'Сhef At Home', 'Самокат', 'Сахар', 'Сеть магазинов «Пятёрочка»', 'Слата', 'Ужин Дома', 'Шефмаркет', 'Яндекс Еда', 'Яндекс Лавка', 'Яндекс.Еда', 'Яндекс.Еда и Лавка', 'Яндекс.Лавка', 'Ярче', 'Ярче!', 'интернет-магазин GLOBUS', 'интернет-магазин ВкусВилл'],\n",
        "              'education': ['Advance', 'GoPractice Growth', 'LingvaBOOM', 'MyFitlab', 'Puzzle English', 'SKYENG', 'School of Practical Investment', 'Skyeng', 'Skyeng Math', 'Skyeng Премиум', 'Skypro', 'Skysmart', 'Skysmart Premium', 'Smart Reading', 'SmartReading', 'Smartreading', 'Storytel', 'X10 Academy', 'Аудиомания', 'Аудиомания.ру', 'Для студентов ВШЭ', 'Для студентов МГТУ им. Баумана', 'Для студентов МГУ', 'Для студентов НИУ ВШЭ СПб', 'Интернет-магазин «Читай-город»', 'Интернет-магазин Читай-город', 'Испаника', 'Нетология', 'Онлайн школа  LingvaBOOM', 'Онлайн школа Испаника', 'Парусная Академия', 'Республика', 'Сотка', 'Тетрика', 'Умскул', 'Учи.ру', 'Фоксфорд', 'Читай город', 'Читай-город', 'Школа идеального тела'],\n",
        "              'medicine': ['ADRIA', 'Alter', 'Aravia', 'Armani beauty', 'Delux thai spa', 'Diamarka', 'Doma Beauty Place', 'Elemis', 'Erborian', 'KIKO MILANO', 'KRASOTKAPRO.RU', 'Kiko Milano', 'LETIQUE', 'Lancome.ru', 'Los Brows', 'MIXIT', 'Medalp', 'Noerden', 'Pharmacosmetica', 'SEPHORA', 'Sisley-Paris', 'SmartMed', 'Socolor', 'Soda', 'Well Clinic', 'Yahmur Space', 'Yves Rocher', 'biblioteka aromatov', 'imkosmetik', 'Акушерство.ru', 'Аптека Вита', 'Аптека Низких Цен', 'Библиотека ароматов', 'Галерея косметики', 'Горздрав', 'Государственная Аптека', 'Дентал Бутик', 'ДиаМарка', 'ЕМС', 'Европейский Медицинский Центр', 'ЗдравСити', 'Интернет-бутик «YVES ROCHER»', 'Интернет-магазин Акушерство.ру', 'КрасоткаПро', 'Красоткапро', \"Л'Этуаль\", 'Лаборатория ДНКОМ', 'Линзмастер', 'Лошадиная Сила', 'Лошадиная сила', 'МЕДСИ', 'МЕДСИ сеть клиник', 'Магнит косметик', 'Медси', 'Миссис Лазер', 'Моя аптека', 'Народная стоматология', 'ОРТЕКА', 'Оазис-спа', 'Огни Олимпа', 'Оптика Точка зрения', 'Ортека', 'Офтальмологическая клиника Спектр', 'Планета Здоровья', 'Сеть аптек «Моя аптека»', 'Сеть аптек Моя аптека', 'Сиблабсервис', 'Телемедицина от МЕДСИ', 'Телемедицина от МЕДСИ ', 'Точка зрения', 'УЗИ студия', 'Улыбка радуги', 'ЦЭЛТ', 'Четыре глаза', 'интернет-бутик Yves Rocher', 'интернет-бутик «YVES ROCHER»'],\n",
        "              'travel': ['4SEASONS', 'Art Deco Primorsky', 'Art Nuvo Palace', 'Bronevik', 'Bronevik.com', 'Delta Sirius', 'FUN&SUN', 'Grand Wellness', 'Level Travel', 'Level.Travel', 'Level.Travel Туры', 'METRO Cash&Carry', 'Ostrovok.ru', 'QuickMADE', 'S7', 'S7 Airlines', 'SHELL', 'Shell', 'TUI', 'TUI I FUN&SUN', 'Tvil.ru', 'UBER', 'Uber Russia', 'Urent', 'Whoosh', 'tutu Отели', 'Автотека', 'Аква-Вита', 'Аква-Стайл', 'Бизнес-залы РЖД', 'ВелоСклад', 'Делимобиль', 'Купибилет', 'Лукойл', 'Манжерок', 'Манжерок ', 'Петровский Арт Лофт', 'РАМК', 'Русский Авто-Мото Клуб', 'Русский АвтоМотоКлуб (РАМК)', 'СИТИДРАЙВ', 'СЛЕТАТЬ.РУ', 'Сеть автомоек 4SEASONS', 'Ситидрайв', 'Ситимобил', 'Слетать.Ру', 'Спутник', 'Суточно.ру', 'ТВИЛ', 'Такси Maxim', 'Тинькофф Отели', 'Туту Отели', 'Экспресс Точка Ру', 'Юрент', 'Яндекс Такси', 'Яндекс.Такси'],\n",
        "              'purchase': ['#SEKTA', '1С Интерес', '2MOOD', '585 Золотой', '585*Золотой', 'ATAK', 'AliExpress', 'AllTime', 'AllTime.ru', 'Bluesleep', 'Bonafide', 'Bonafide ', 'CERAMISU', 'COLINS', 'Cheese It', 'Code4game', 'Consul', 'Cеть хобби-гипермаркетов «Леонардо»', 'DKNY', 'Designboom', 'Dr.Head', 'ESET NOD32', 'ESETNOD32', 'Etam', 'FARFETCH', 'Familia', 'Farfetch', 'Fissman', 'Fix Price', 'FloraExpress', 'Futuriqa', 'GFN', 'GRASS', 'Giox', 'Goods', 'Goods.ru', 'Grass', 'Gulliver market', 'HANDWERS', 'Handwers', 'Happywear', 'I am studio', 'ISTNOVA', 'IVI', 'IVI в приложении Тинькофф', 'IVI от Тинькофф', 'Intelinvest', 'Intelinvest ', 'Juicy Couture', 'KANZLER', 'KARI', 'KARI KIDS', 'Kanzler', 'Karcher', 'Kari', 'Kidzania', 'Kraft Flowers', 'Lamoda', 'Lassie', 'Lee', 'MATE flowers', 'MEGOGO', 'MIUZ Diamonds', 'Marc & Andre', 'Marks & Spencer', 'Masar Lingerie', 'Megogo', 'Mon Bon', 'Movavi', 'My Hygge Box', 'NEBBIA', 'Nappyclub', 'OZON', 'OZON.ru', 'Olympus', 'Ozon', 'Ozon.ru', 'PETKIT', 'PREMIER', 'PRO.FINANSY', 'Petshop.ru', 'Petstory', 'Petstory ', 'Reima', 'Respect', 'Rondell', 'Routemark', 'SENAT', 'SOLAR', 'SUPERPET', 'Samsung', 'Seiko Club', 'Shopping live', 'Simple', 'Softline Store', 'SuperStep', 'Svetlov', 'TEZENIS', 'Teboil', 'Tkano', 'VK Музыка', 'Wink', 'World of watch', 'Yves Saint Laurent', 'Zolla', 'adidas', 'e2e4', 'goods.ru', 'ivi', 'kari', 'kari KIDS', 'more.tv', '«Лаборатория Касперского»', 'Аленка', 'Арбатский БаЗар', 'Бетховен', 'Братья Чистовы', 'Бронницкий ювелир', 'Верный', 'Ветеринария онлайн Petstory', 'Ветеринарный центр', 'Газпромнефть', 'Горбилет', 'Деловые Линии', 'Детский Мир', 'Динозаврик', 'Доставка цветов FloraExpress', 'Зелёная лиса', 'Золотое Яблоко', 'Зоомагазин Динозаврик', 'ИВИ', 'Иви в приложении Тинькофф', 'Игры в Тинькофф Городе', 'Интернет - магазин SEPHORA', 'Интернет-магазин 585*Золотой', 'Интернет-магазин Lancome.ru', 'Интернет-магазин SuperStep', 'Интернет-магазин TEZENIS', 'Интернет-магазин «Технопарк»', 'Интернет-магазин Динозаврик', 'Интернет-магазин Технопарк', 'КОД4ГЕЙМ', 'Карат', 'Каток на Кремлёвской набережной', 'Кидзания', 'Кораблик', \"Л'Окситан\", 'Лаборатория Касперского', 'Леонардо', 'Логомашина', 'МегаФон', 'Мираторг', 'Мокрый нос', 'Монетка', 'Московский ювелирный завод', 'Николаевский', 'Опека', 'ПЕРЕСТРОЙКА', 'Плюс Мульти', 'Полимакс', 'РИВ ГОШ', 'Рив Гош', 'Роснефть', 'Ростелеком', 'Русский остров', 'СЕТЬ СВЯЗНОЙ', 'СТРОЙПЛАТФОРМА', 'СберМаркет', 'СберМегаМаркет', 'Связной', 'Спектр', 'Столото', 'Строительный двор', 'Строительный двор Рассрочка', 'Строительный двор Таргет', 'ТВОЕ', 'Татнефть', 'Технопарк', 'Тинькофф Игры', 'Тинькофф Страхование', 'Тинькофф каток', 'Топливо в Тинькофф', 'Топливо в Тинькофф (FUEL)', 'Тортомастер', 'Точка любви', 'Хобби-гипермаркет Леонардо', 'Хобби-гипермаркеты «Леонардо»', 'Хобби-гипермаркеты Леонардо', 'ЦВЕТЫ НА РАЙОНЕ', 'ЦСКА', 'Цветов.ру', 'Цветы на районе', 'ЧЕТЫРЕ ГЛАЗА', 'Четыре Лапы', 'Чистая линия', 'Чёрное Озеро', 'Яндекс 360', 'Яндекс Заправки', 'Яндекс Плюс', 'Яндекс.Заправки', 'Яркий Фотомаркет', 'Яркий фотомаркет', 'интернет-магазин SuperStep', 'интернет-магазин TEZENIS', 'интернет-магазин Технопарк'],\n",
        "              'restaurant': ['BB&BURGERS', 'BURGER KING', 'Burger King', 'Cofix', \"Domino's Pizza\", 'Four', 'Gent', 'KFC', 'Maestrello', 'PIZZASUSHIWOK.RU', 'PhoBo', 'Pizza Maestrello', 'PizzaSushiWok', 'PrimeMeat', 'PrimeMeat.ru', 'Tasty Coffee', 'Бирвайн', 'Бургер Кинг', 'ВьетКафе', 'Гурманика', 'ДОДО Пицца', 'Додо', 'Додо Пицца', 'Кухня на районе', 'НИЯМА', 'Рестораны', 'Сушкоф и Дель Песто', 'Сушкоф и пицца', 'Теремок', 'Теремок ', 'Теремок Спб'],\n",
        "              'bigpurchase': ['AUTODOC.RU', 'Anytime Prime', 'Braun', 'DNS', 'Don Plafon', 'Fandeco', 'Garlyn', 'Greenbox', 'HOBOT', 'HOFF', 'Haier', 'Inoxtime', 'LAZURIT', 'Lapsi', 'Lavita', 'Leran', 'Level Kitchen', 'Lustron', 'Lustron.ru', 'MELEON', 'Maxwell', 'Pushe', 'SantPrice.ru', 'TESSER', 'TESSER.RU', 'Xcom-shop', 're:Store', 'restore:', 'Гардиан', 'Двери ГАРДИАН', 'Двери Гардиан', 'Дивайн Лайт', 'ЛЮ.ру', 'Леруа Мерлен', 'М.Видео', 'Маркет света', 'Сантехника-Рум', 'Ситилинк', 'Фиссмания', 'Холодильник.ру', 'Эльдорадо']}"
      ]
    },
    {
      "cell_type": "code",
      "execution_count": 288,
      "metadata": {},
      "outputs": [],
      "source": [
        "def which_category(name: str): # -> str\n",
        "    for key_cat, val_cat in categories.items():\n",
        "        if name in val_cat:\n",
        "            return key_cat\n",
        "    return 'ErrorCategoryQualifier: this company not in Data'\n",
        "\n",
        "def create_full_dict(name: str, budget: int, category: str, date_end): # -> dict\n",
        "    d_full = {name: [category, budget, date_end, 0, False]}\n",
        "    return d_full\n",
        "\n",
        "def determinant_model(category): # УЧЕСТЬ ЧТО НАЗВАНИЕ ПОЛНОЕ\n",
        "    name_model = f'model_{category}.pkl'\n",
        "    with open(name_model, 'rb') as pkl:\n",
        "            model = pickle.load(pkl)\n",
        "    return model\n",
        "\n",
        "def get_predict_old(model, date_end): # -> DataFrame     ПРОВЕРИТЬ РАБОТОСПОСОБНОСТЬ \n",
        "    periods = (date_end - pd.to_datetime('2023-01-01')).dt.days\n",
        "    predict = model.predict(n_periods=periods)\n",
        "    dates = pd.date_range(pd.to_datetime('2023-01-01'), date_end)\n",
        "    predict = predict.to_frame(name='pred_cash')\n",
        "    df_pred = pd.concat([dates, predict], axis=1)\n",
        "    return df_pred\n",
        "\n",
        "def change_datatime_action(predicted_df, full_df):  # -> DataFrame   \n",
        "    for i in range(predicted_df.shape[0]):\n",
        "        spent_now = change_spent_budget(predicted_df, full_df, i)[0][-2]\n",
        "        if spent_now >= full_df[0][1]:\n",
        "            full_df[0][-1] = True \n",
        "            full_df[0][2] = pd.to_datetime(predicted_df.iloc[i, 0])\n",
        "    return full_df\n",
        "\n",
        "def change_spent_budget(predicted_df, full_df, index):   # -> DataFrame \n",
        "    full_df[0][-2] = full_df[0][-2] + predicted_df.iloc[index, -1]\n",
        "    return full_df"
      ]
    },
    {
      "cell_type": "code",
      "execution_count": null,
      "metadata": {},
      "outputs": [],
      "source": [
        "def get_predict(name, budget, date_end):\n",
        "\n",
        "    with open('predictions.json', 'r') as json_file:\n",
        "        json_data = json.load(json_file)\n",
        "\n",
        "    for key_cat, val_cat in categories.items():\n",
        "        if name in val_cat:\n",
        "            category = key_cat\n",
        "        \n",
        "    full_df = {name: json_data[name]}\n",
        "\n",
        "    name_model = f'model_{category}.pkl'\n",
        "    with open(name_model, 'rb') as pkl:\n",
        "            model = pickle.load(pkl)\n",
        "\n",
        "    periods = (date_end - pd.to_datetime('2023-01-01')).dt.days\n",
        "    predict = model.predict(n_periods=periods)\n",
        "\n",
        "    dates = pd.date_range(pd.to_datetime('2023-01-01'), date_end)\n",
        "    predict = predict.to_frame(name='pred_cash')\n",
        "    df_pred = pd.concat([dates, predict], axis=1)\n",
        "    \n",
        "    sum_cash = 0\n",
        "    for i in range(df_pred.shape[0]):\n",
        "        sum_cash += df_pred.iloc[i, -1] \n",
        "        if sum_cash >= budget:\n",
        "            full_df[name] = pd.to_datetime(df_pred.iloc[i, 0])\n",
        "    \n",
        "    json_data[name] = full_df[name]\n",
        "    with open('predictions.json', 'w') as f:    \n",
        "        json.dump(json_data, f)"
      ]
    },
    {
      "cell_type": "markdown",
      "metadata": {},
      "source": [
        "# Обучение модели, подбор параметров, предсказание"
      ]
    },
    {
      "cell_type": "code",
      "execution_count": null,
      "metadata": {},
      "outputs": [],
      "source": [
        "df = pd.read_csv('/Users/ula/Downloads/backup.csv')\n",
        "\n",
        "model = pm.auto_arima(df[\"cashback\"], start_p=1, start_q=1,\n",
        "                         test='kpss',\n",
        "                         max_p=5, max_q=5, m=6,\n",
        "                         start_P=0, seasonal=True,\n",
        "                         d=None, D=1, trace=True,\n",
        "                         error_action='ignore',  \n",
        "                         suppress_warnings=True, \n",
        "                         stepwise=True)\n",
        "\n",
        "predict, confint = model.predict(n_periods=5, return_conf_int=True)\n",
        "print(predict)"
      ]
    },
    {
      "cell_type": "code",
      "execution_count": 275,
      "metadata": {},
      "outputs": [
        {
          "data": {
            "text/html": [
              "<table class=\"simpletable\">\n",
              "<caption>SARIMAX Results</caption>\n",
              "<tr>\n",
              "  <th>Dep. Variable:</th>                    <td>y</td>                 <th>  No. Observations:  </th>    <td>396</td>   \n",
              "</tr>\n",
              "<tr>\n",
              "  <th>Model:</th>           <td>SARIMAX(1, 0, 0)x(0, 1, [1, 2], 6)</td> <th>  Log Likelihood     </th> <td>-3638.588</td>\n",
              "</tr>\n",
              "<tr>\n",
              "  <th>Date:</th>                     <td>Sat, 24 Feb 2024</td>          <th>  AIC                </th> <td>7287.176</td> \n",
              "</tr>\n",
              "<tr>\n",
              "  <th>Time:</th>                         <td>23:23:53</td>              <th>  BIC                </th> <td>7307.007</td> \n",
              "</tr>\n",
              "<tr>\n",
              "  <th>Sample:</th>                           <td>0</td>                 <th>  HQIC               </th> <td>7295.037</td> \n",
              "</tr>\n",
              "<tr>\n",
              "  <th></th>                               <td> - 396</td>               <th>                     </th>     <td> </td>    \n",
              "</tr>\n",
              "<tr>\n",
              "  <th>Covariance Type:</th>                 <td>opg</td>                <th>                     </th>     <td> </td>    \n",
              "</tr>\n",
              "</table>\n",
              "<table class=\"simpletable\">\n",
              "<tr>\n",
              "      <td></td>         <th>coef</th>     <th>std err</th>      <th>z</th>      <th>P>|z|</th>  <th>[0.025</th>    <th>0.975]</th>  \n",
              "</tr>\n",
              "<tr>\n",
              "  <th>intercept</th> <td>   26.9708</td> <td>   21.465</td> <td>    1.257</td> <td> 0.209</td> <td>  -15.099</td> <td>   69.041</td>\n",
              "</tr>\n",
              "<tr>\n",
              "  <th>ar.L1</th>     <td>    0.7582</td> <td>    0.017</td> <td>   45.315</td> <td> 0.000</td> <td>    0.725</td> <td>    0.791</td>\n",
              "</tr>\n",
              "<tr>\n",
              "  <th>ma.S.L6</th>   <td>   -0.6831</td> <td>    0.026</td> <td>  -26.643</td> <td> 0.000</td> <td>   -0.733</td> <td>   -0.633</td>\n",
              "</tr>\n",
              "<tr>\n",
              "  <th>ma.S.L12</th>  <td>   -0.2270</td> <td>    0.036</td> <td>   -6.289</td> <td> 0.000</td> <td>   -0.298</td> <td>   -0.156</td>\n",
              "</tr>\n",
              "<tr>\n",
              "  <th>sigma2</th>    <td> 7.291e+06</td> <td> 2.36e+05</td> <td>   30.861</td> <td> 0.000</td> <td> 6.83e+06</td> <td> 7.75e+06</td>\n",
              "</tr>\n",
              "</table>\n",
              "<table class=\"simpletable\">\n",
              "<tr>\n",
              "  <th>Ljung-Box (L1) (Q):</th>     <td>1.09</td> <th>  Jarque-Bera (JB):  </th> <td>5782.71</td>\n",
              "</tr>\n",
              "<tr>\n",
              "  <th>Prob(Q):</th>                <td>0.30</td> <th>  Prob(JB):          </th>  <td>0.00</td>  \n",
              "</tr>\n",
              "<tr>\n",
              "  <th>Heteroskedasticity (H):</th> <td>8.01</td> <th>  Skew:              </th>  <td>-0.21</td> \n",
              "</tr>\n",
              "<tr>\n",
              "  <th>Prob(H) (two-sided):</th>    <td>0.00</td> <th>  Kurtosis:          </th>  <td>21.86</td> \n",
              "</tr>\n",
              "</table><br/><br/>Warnings:<br/>[1] Covariance matrix calculated using the outer product of gradients (complex-step)."
            ],
            "text/plain": [
              "<class 'statsmodels.iolib.summary.Summary'>\n",
              "\"\"\"\n",
              "                                       SARIMAX Results                                        \n",
              "==============================================================================================\n",
              "Dep. Variable:                                      y   No. Observations:                  396\n",
              "Model:             SARIMAX(1, 0, 0)x(0, 1, [1, 2], 6)   Log Likelihood               -3638.588\n",
              "Date:                                Sat, 24 Feb 2024   AIC                           7287.176\n",
              "Time:                                        23:23:53   BIC                           7307.007\n",
              "Sample:                                             0   HQIC                          7295.037\n",
              "                                                - 396                                         \n",
              "Covariance Type:                                  opg                                         \n",
              "==============================================================================\n",
              "                 coef    std err          z      P>|z|      [0.025      0.975]\n",
              "------------------------------------------------------------------------------\n",
              "intercept     26.9708     21.465      1.257      0.209     -15.099      69.041\n",
              "ar.L1          0.7582      0.017     45.315      0.000       0.725       0.791\n",
              "ma.S.L6       -0.6831      0.026    -26.643      0.000      -0.733      -0.633\n",
              "ma.S.L12      -0.2270      0.036     -6.289      0.000      -0.298      -0.156\n",
              "sigma2      7.291e+06   2.36e+05     30.861      0.000    6.83e+06    7.75e+06\n",
              "===================================================================================\n",
              "Ljung-Box (L1) (Q):                   1.09   Jarque-Bera (JB):              5782.71\n",
              "Prob(Q):                              0.30   Prob(JB):                         0.00\n",
              "Heteroskedasticity (H):               8.01   Skew:                            -0.21\n",
              "Prob(H) (two-sided):                  0.00   Kurtosis:                        21.86\n",
              "===================================================================================\n",
              "\n",
              "Warnings:\n",
              "[1] Covariance matrix calculated using the outer product of gradients (complex-step).\n",
              "\"\"\""
            ]
          },
          "execution_count": 275,
          "metadata": {},
          "output_type": "execute_result"
        }
      ],
      "source": [
        "model.summary()"
      ]
    },
    {
      "cell_type": "code",
      "execution_count": null,
      "metadata": {},
      "outputs": [],
      "source": [
        "'''\n",
        "version 1:\n",
        "\n",
        "max_p=5, max_q=5, m=6, d=2\n",
        "\n",
        "ARIMA(5,2,0)(2,1,0)[6] \n",
        "'''\n",
        "\n",
        "'''\n",
        "version 2:\n",
        "\n",
        "max_p=5, max_q=5, m=7, d=2\n",
        "\n",
        "ARIMA(4,2,1)(1,1,1)[7]  \n",
        "'''\n"
      ]
    },
    {
      "cell_type": "code",
      "execution_count": null,
      "metadata": {},
      "outputs": [],
      "source": []
    }
  ],
  "metadata": {
    "colab": {
      "provenance": []
    },
    "kernelspec": {
      "display_name": "Python 3",
      "name": "python3"
    },
    "language_info": {
      "codemirror_mode": {
        "name": "ipython",
        "version": 3
      },
      "file_extension": ".py",
      "mimetype": "text/x-python",
      "name": "python",
      "nbconvert_exporter": "python",
      "pygments_lexer": "ipython3",
      "version": "3.10.9"
    }
  },
  "nbformat": 4,
  "nbformat_minor": 0
}
